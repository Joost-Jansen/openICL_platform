{
 "cells": [
  {
   "cell_type": "code",
   "execution_count": 1,
   "metadata": {},
   "outputs": [
    {
     "name": "stdout",
     "output_type": "stream",
     "text": [
      "Importing packages...\n"
     ]
    },
    {
     "name": "stderr",
     "output_type": "stream",
     "text": [
      "/home/gadmiraal/.local/lib/python3.10/site-packages/tqdm/auto.py:21: TqdmWarning: IProgress not found. Please update jupyter and ipywidgets. See https://ipywidgets.readthedocs.io/en/stable/user_install.html\n",
      "  from .autonotebook import tqdm as notebook_tqdm\n"
     ]
    }
   ],
   "source": [
    "print(\"Importing packages...\")\n",
    "from openicl import DatasetReader, PromptTemplate, TopkRetriever,GenInferencer\n",
    "import openai\n",
    "import os\n",
    "from dotenv import load_dotenv\n",
    "from datasets import load_dataset, Dataset\n",
    "import random\n"
   ]
  },
  {
   "cell_type": "code",
   "execution_count": 2,
   "metadata": {},
   "outputs": [],
   "source": [
    "load_dotenv()\n",
    "openai.api_key = os.getenv('OPENAI_API_KEY')"
   ]
  },
  {
   "cell_type": "code",
   "execution_count": 3,
   "metadata": {},
   "outputs": [
    {
     "name": "stdout",
     "output_type": "stream",
     "text": [
      "Loading dataset...\n"
     ]
    },
    {
     "name": "stderr",
     "output_type": "stream",
     "text": [
      "Found cached dataset sst2 (/home/gadmiraal/.cache/huggingface/datasets/gpt3mix___sst2/default/0.0.0/90167692658fa4abca2ffa3ede1a43a71e2bf671078c5c275c64c4231d5a62fa)\n",
      "100%|██████████| 3/3 [00:00<00:00, 269.12it/s]\n"
     ]
    }
   ],
   "source": [
    "print(\"Loading dataset...\")\n",
    "dataset = load_dataset(\"gpt3mix/sst2\")\n"
   ]
  },
  {
   "cell_type": "code",
   "execution_count": 4,
   "metadata": {},
   "outputs": [],
   "source": [
    "dictionary_list = dataset['train'].select_columns(['text']).to_list()\n",
    "sentence_list = [entry['text'] for entry in dictionary_list]\n",
    "processed_list = []\n",
    "\n",
    "for sentence in sentence_list:\n",
    "    split = sentence.split()\n",
    "    mask_id = random.randint(0, len(split)-1)\n",
    "    split[mask_id] = '$MASK$'\n",
    "    processed = ' '.join(split)\n",
    "    processed_list.append({'text': processed, 'label': sentence})\n",
    "\n",
    "new_ds = Dataset.from_list(processed_list)"
   ]
  },
  {
   "cell_type": "code",
   "execution_count": 5,
   "metadata": {},
   "outputs": [],
   "source": [
    "data = DatasetReader(new_ds, input_columns=['text'], output_column='label', ds_size=100)"
   ]
  },
  {
   "cell_type": "code",
   "execution_count": 6,
   "metadata": {},
   "outputs": [
    {
     "name": "stderr",
     "output_type": "stream",
     "text": [
      "[2023-06-08 15:59:39,832] [openicl.icl_retriever.icl_topk_retriever] [INFO] Creating index for index set...\n",
      "  0%|          | 0/100 [00:00<?, ?it/s]You're using a GPT2TokenizerFast tokenizer. Please note that with a fast tokenizer, using the `__call__` method is faster than using a method to encode the text followed by a call to the `pad` method to get a padded encoding.\n",
      "100%|██████████| 100/100 [00:04<00:00, 24.58it/s]\n"
     ]
    }
   ],
   "source": [
    "template = PromptTemplate(\n",
    "    '</E> Replace in the following sentence the $MASK$ token for a single word: </Masked>.\\n Solution: </Solution>',\n",
    "    {'text': '</Masked>', 'label': '</Solution>'},\n",
    "    ice_token='</E>'\n",
    "    )\n",
    "\n",
    "retriever = TopkRetriever(data, ice_num=3)\n"
   ]
  },
  {
   "cell_type": "code",
   "execution_count": 7,
   "metadata": {},
   "outputs": [
    {
     "name": "stderr",
     "output_type": "stream",
     "text": [
      "[2023-06-08 15:59:46,980] [openicl.icl_retriever.icl_topk_retriever] [INFO] Embedding test set...\n"
     ]
    },
    {
     "name": "stdout",
     "output_type": "stream",
     "text": [
      "Running and calculating score...\n"
     ]
    },
    {
     "name": "stderr",
     "output_type": "stream",
     "text": [
      "  0%|          | 0/100 [00:00<?, ?it/s]You're using a GPT2TokenizerFast tokenizer. Please note that with a fast tokenizer, using the `__call__` method is faster than using a method to encode the text followed by a call to the `pad` method to get a padded encoding.\n",
      "100%|██████████| 100/100 [00:03<00:00, 29.48it/s]\n",
      "[2023-06-08 15:59:50,385] [openicl.icl_retriever.icl_topk_retriever] [INFO] Retrieving data for test set...\n",
      "100%|██████████| 100/100 [00:00<00:00, 6415.07it/s]\n",
      "[2023-06-08 15:59:50,486] [openicl.icl_inferencer.icl_gen_inferencer] [INFO] Starting inference process...\n",
      "100%|██████████| 100/100 [09:06<00:00,  5.47s/it]"
     ]
    },
    {
     "name": "stdout",
     "output_type": "stream",
     "text": [
      "[' Adrift , Bentley and Hudson stare and sniffle , respectively , as Ledger attempts , in vain , to prove that movie-star intensity can overcome bad hair design .', \" Though this rude and crude film does deliver a few gut-busting laughs , its digs at modern society are all things we 've seen before .\", ' An old-fashioned scary movie , one that relies on lingering terror punctuated by sudden shocks and not constant bloodshed punctuated by flying guts .', \" ... has about 3\\\\/4th the fun of its spry 2001 predecessor -- but it 's a rushed , slapdash , sequel-for-the-sake - of-a-sequel with less than half the plot and ingenuity .\", \" It's a stale , overused cocktail using the same olives since 1962 as garnish .\", ' You can practically hear George Orwell turning over .', \" Seeing as the film lacks momentum and its position remains mostly undeterminable , the director 's experiment is a successful one .\", ' Stupid , infantile , redundant , sloppy , over-the-top , and amateurish .', ' Successful will be .', ' For VeggieTales fans , this is more appetizing than a side dish of asparagus .', ' Boll uses a lot of quick cutting and blurry step-printing to goose things up , but dopey dialogue and sometimes inadequate performances kill the effect .', ' Nicks sustains the level of exaggerated , stylized humor throughout by taking your expectations and twisting them just a bit .', ' Despite modest ambitions its occasional charms are not to be dismissed .', \" She boxes these women 's souls right open for us .\", ' Manipulative claptrap , a period-piece movie-of-the-week , plain old blarney ... take your pick .', \" It's as if Allen, at 66, has stopped challenging himself.\", ' The Hours , a delicately crafted film , is an impressive achievement in spite of a river of sadness that pours into every frame .', ' The charm of the first movie is still there , and the story feels like the logical , unforced continuation of the careers of a pair of spy kids .', \" Nohe has made a decent ` intro ' documentary , but he feels like a spectator and not a participant .\", \" But as you watch the movie , you 're too interested to care .\", ' A pretty decent kid-pleasing , tolerable-to-adults lark of a movie .', \" You would n't want to live waydowntown , but it is a hilarious place to visit .\", ' Wait to see it then .', ' A timely look back at civil disobedience , anti-war movements and the power of strong voices .', ' Lawrence should stick to his day job .', ' The sheer joy and pride they took in their work -- and in each other -- shines through every frame .', ' None of the characters or plot-lines are fleshed-out enough to build any interest .', \" A compelling coming-of-age drama about the arduous journey of a sensitive young girl through a series of foster homes and a fierce struggle to pull free from her dangerous and domineering mother 's hold over her .\", \" It 's a testament to the film 's considerable charm that it succeeds in entertaining , despite playing out like a feature-length sitcom replete with stereotypical familial quandaries .\", ' Sweet and memorable film .', ' It was a terrible movie in every regard , and utterly painful to watch .', ' A poignant and gently humorous parable that loves its characters and communicates something rather beautiful about human nature .', \" Forget the misleading title , what 's with the unexplained baboon cameo?\", ' The film feels formulaic , its plot and pacing typical Hollywood war-movie stuff , while the performances elicit more of a sense of deja vu than awe .', ' This is a movie so insecure about its capacity to excite that it churns up not one but two flagrantly fake thunderstorms to underscore the action .', ' Visually fascinating ... an often intense character study about fathers and sons , loyalty and duty .', \" Releasing a film with the word ` dog ' in its title in January lends itself to easy jokes and insults , and Snow Dogs deserves every single one of them .\", ' An elegant film with often surprising twists and an intermingling of naiveté and sophistication .', ' If not a home run , then at least a solid base hit .', ' An intense and effective film about loneliness and the chilly anonymity of the environments where so many of us spend so much of our time .', ' You see the movie and you yawn , zzzzzzzzz ..', ' What a concept , what an idea , what a thrill ride .', ' A finely tuned mood piece , a model of menacing atmosphere .', ' Gooding offers a desperately ingratiating performance .', \" -LRB- Allen 's -RRB- best works understand why snobbery is a better satiric target than middle-America diversions could ever be .\", ' Exhilarating but blatantly biased .', \" Confessions is n't always coherent , but it 's sharply comic and surprisingly touching , so hold the gong .\", \" ... an enjoyably frothy ` comedy movie ' ....\", \" ... less a story than an inexplicable nightmare , right down to the population 's shrugging acceptance to each new horror .\", ' Directed without the expected flair or imagination by Hong Kong master John Woo , Windtalkers airs just about every cliche in the war movie compendium throughout its indulgent two-hour-and-fifteen-minute length .', \" `Linklater fans , or pretentious types who want to appear avant-garde will suck up to this project ... '\", ' While the performances are often engaging , this loose collection of largely improvised numbers would probably have worked better as a one-hour TV documentary .', \" It 's an entertaining movie , and the effects , boosted to the size of a downtown hotel , will all but take you to outer space .\", ' His work with actors is particularly impressive.', ' To others , it will remind them that Hong Kong action cinema is still alive and kicking .', \" Perhaps the best sports movie I 've ever seen .\", ' Tense , terrific , sweaty-palmed fun .', ' insightfully written , delicately performed.', ' -LRB- A -RRB- slummer .', ' Eight Legged Freaks?', ' Halfway through , however , having sucked dry the undead action flick formula , Blade II mutates into a gross-out monster movie with effects that are more silly than scary .', ' It happened .', ' Like Rudy Yellow Lodge , Eyre needs to take a good sweat to clarify his cinematic vision before his next creation and remember the lessons of the trickster spider .', ' Deuces Wild treads heavily into Romeo and Juliet\\\\/West Side Story territory , where it plainly has no business going .', ' Anyone', \" I ca n't remember the last time I saw worse stunt editing or cheaper action movie production values than in Extreme Ops .\", \" It's hard to imagine any recent film, independent or otherwise, that makes as much of a mess as this one.\", \" Solaris is rigid and evasive in ways that Soderbergh 's best films , `` Erin Brockovich , '' `` Out of Sight '' and `` Ocean 's Eleven , '' never were .\", ' Lacks the spirit of the previous two , it makes all those jokes about hos and even more unmentionable subjects seem like mere splashing around in the muck .', ' An uncomfortable movie , suffocating and sometimes almost senseless , The Grey Zone does have a center , though a morbid one .', ' Unfolds as one of the most politically audacious films of recent decades from any country , but especially from France .', \" A movie that 's held captive by mediocrity .\", ' What starts off as a potentially incredibly twisting mystery becomes simply a monster chase film.', ' A film that loses track of its own story .', \" This is no `` Waterboy ! ''\", ' A sensitive and astute first feature by Anne-Sophie Birot .', ' The Trials of Henry Kissinger is a remarkable piece of filmmaking ... because you get it .', ' Although some viewers will not be able to stomach so much tongue-in-cheek weirdness , those who do will have found a cult favorite to enjoy for a lifetime .', \" More concerned with overall feelings , broader ideas , and open-ended questions than concrete story and definitive answers , Soderbergh 's Solaris is a gorgeous and deceptively minimalist cinematic tone poem .\", ' Confessions is without a doubt a memorable directorial debut from King Hunk.', ' Performances all around are tops , with the two leads delivering Oscar-caliber performances .', \" Try as you might to scrutinize the ethics of Kaufman 's approach , somehow it all comes together to create a very compelling , sensitive , intelligent and almost cohesive piece of film entertainment .\", ' Solondz may well be the only one laughing at his own joke.', ' Watching these eccentrics is both inspiring and pure joy .', ' Kids will love its fantasy and adventure , and grownups should appreciate its whimsical humor .', ' Fails to satisfactorily exploit its gender politics , genre thrills or inherent humor .', ' All the sensuality , all the eroticism of a good vampire tale has been , pardon the pun , sucked out and replaced by goth goofiness .', ' I had more fun watching Spy than I had with most of the big summer movies .', ' As the princess , Sorvino glides gracefully from male persona to female without missing a beat .', ' An unexpectedly tender story of sisterhood .', ' A tone of rueful compassion ... reverberates throughout this film , whose meaning and impact is sadly heightened by current world events .', \" Fans of Plympton 's shorts may marginally enjoy the film , but it is doubtful this listless feature will win him any new viewers .\", \" `` Red Dragon '' is entertaining .\", \" It is n't quite one of the worst movies of the year .\", ' Neatly constructed thriller.', ' Blisteringly rude , scarily funny , sorrowfully sympathetic to the damage it surveys , the film has in Kieran Culkin a pitch-perfect Holden .', ' The movie is the equivalent of French hip-hop , which also seems to play on a 10-year delay .', ' Visually engrossing , seldom hammy , honorably Mexican and burns its Kahlories with conviction .', ' Pacino and Williams seem to keep upping the ante on each other , just as their characters do in the film .', ' A zinger-filled crowd-pleaser that open-minded Elvis fans -LRB- but by no means all -RRB- will have fun with .']\n"
     ]
    },
    {
     "name": "stderr",
     "output_type": "stream",
     "text": [
      "\n"
     ]
    }
   ],
   "source": [
    "infr = GenInferencer(api_name='gpt3', engine='text-davinci-003', sleep_time=3)\n",
    "\n",
    "print(\"Running and calculating score...\")\n",
    "print(infr.inference(retriever, ice_template=template))"
   ]
  }
 ],
 "metadata": {
  "kernelspec": {
   "display_name": "Python 3",
   "language": "python",
   "name": "python3"
  },
  "language_info": {
   "codemirror_mode": {
    "name": "ipython",
    "version": 3
   },
   "file_extension": ".py",
   "mimetype": "text/x-python",
   "name": "python",
   "nbconvert_exporter": "python",
   "pygments_lexer": "ipython3",
   "version": "3.10.6"
  },
  "orig_nbformat": 4
 },
 "nbformat": 4,
 "nbformat_minor": 2
}
