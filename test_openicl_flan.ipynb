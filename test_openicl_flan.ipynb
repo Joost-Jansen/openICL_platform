{
 "cells": [
  {
   "cell_type": "code",
   "execution_count": 7,
   "metadata": {},
   "outputs": [
    {
     "name": "stderr",
     "output_type": "stream",
     "text": [
      "Found cached dataset sst2 (/home/nlonyuk/.cache/huggingface/datasets/gpt3mix___sst2/default/0.0.0/90167692658fa4abca2ffa3ede1a43a71e2bf671078c5c275c64c4231d5a62fa)\n"
     ]
    }
   ],
   "source": [
    "from openicl import DatasetReader, PromptTemplate, ZeroRetriever, GenInferencer, PPLInferencer, CoTInferencer, RandomRetriever\n",
    "from openicl.icl_dataset_reader import load_dataset\n",
    "import pandas as pd\n",
    "from accelerate import Accelerator\n",
    "from QKPGeNAlgRetriever import QPKRetriever\n",
    "from QPKTabuRetriever import QPKTabuRetriever\n",
    "import numpy as np\n",
    "\n",
    "\n",
    "qa_models = [\"roberta-large\", \"gpt2-large\"]\n",
    "task = 'sentiment-analysis'\n",
    "model = qa_models[1]\n",
    "\n",
    "dataset_names = ['commonsense_qa', 'tasksource/bigbench', 'gpt3mix/sst2', 'imdb']\n",
    "\n",
    "dataset_name = dataset_names[2]\n",
    "if dataset_name == 'tasksource/bigbench':\n",
    "    dataset = load_dataset(dataset_name, 'disambiguation_qa', split='train')\n",
    "    dataset = dataset.train_test_split(test_size=50, train_size=156, shuffle=True)\n",
    "\n",
    "else:\n",
    "    dataset = load_dataset(dataset_name, split='train')\n",
    "    dataset = dataset.train_test_split(test_size=100, train_size=500, shuffle=True)\n",
    "\n",
    "def cmqa_pre_process(example):\n",
    "    for i in range(5):\n",
    "        example[chr(ord('A') + i)] = example['choices']['text'][i]\n",
    "    return example\n",
    "\n",
    "def bb_pre_process(example):\n",
    "    for i in range(3):\n",
    "        example[chr(ord('A') + i)] = example['multiple_choice_targets'][i]\n",
    "    example['multiple_choice_scores'] = chr(ord('A') + np.where(np.array(example['multiple_choice_scores']) == 1)[0][0])\n",
    "    example['context'] = \"Disambiguation\"\n",
    "    return example\n",
    "\n",
    "if dataset_name=='commonsense_qa':\n",
    "    dataset = dataset.map(cmqa_pre_process)\n",
    "    dataset = dataset.rename_column(\"question_concept\",\"context\")\n",
    "    dataset = dataset.rename_column(\"answerKey\",\"answer\")\n",
    "    input_cols = [\"question\", \"context\", \"A\", \"B\", \"C\", \"D\", \"E\"]\n",
    "    data = DatasetReader(dataset=dataset, input_columns=input_cols, output_column=\"answer\")\n",
    "\n",
    "elif dataset_name=='wiki_qa':\n",
    "    dataset = dataset.rename_column(\"document_title\",\"context\")\n",
    "    input_cols = [\"question\", \"context\"]\n",
    "    data = DatasetReader(dataset=dataset, input_columns=input_cols, output_column=\"answer\")\n",
    "\n",
    "elif dataset_name=='tasksource/bigbench':\n",
    "    dataset = dataset.map(bb_pre_process)\n",
    "    dataset = dataset.rename_column(\"multiple_choice_scores\",\"answer\")\n",
    "    dataset = dataset.rename_column(\"inputs\",\"question\")\n",
    "    input_cols = [\"question\", \"context\", \"A\", \"B\", \"C\"]\n",
    "    data = DatasetReader(dataset=dataset, input_columns=input_cols, output_column=\"answer\")\n",
    "\n",
    "elif dataset_name=='gpt3mix/sst2' or dataset_name=='imdb':\n",
    "    data = DatasetReader(dataset=dataset, input_columns=['text'], output_column=\"label\")\n",
    "\n",
    "# print(data['test']['te'])\n",
    "# print(data['test']['answer'])"
   ]
  },
  {
   "cell_type": "code",
   "execution_count": 8,
   "metadata": {},
   "outputs": [],
   "source": [
    "# Accelerate Prepare\n",
    "accelerator = Accelerator()"
   ]
  },
  {
   "cell_type": "code",
   "execution_count": 9,
   "metadata": {},
   "outputs": [],
   "source": [
    "#common sense QA\n",
    "cmsqa_template=PromptTemplate(\n",
    "    {\n",
    "        'A': \"</E>Answer the following question:\\n</Q>\\nAnswer: </Ans1>\",\n",
    "        'B': \"</E>Answer the following question:\\n</Q>\\nAnswer: </Ans2>\",\n",
    "        'C': \"</E>Answer the following question:\\n</Q>\\nAnswer: </Ans3>\",\n",
    "        'D': \"</E>Answer the following question:\\n</Q>\\nAnswer: </Ans4>\",\n",
    "        'E': \"</E>Answer the following question:\\n</Q>\\nAnswer: </Ans5>\",\n",
    "    },\n",
    "    {'question':'</Q>', 'A': '</Ans1>', 'B': '</Ans2>', 'C': '</Ans3>', 'D': '</Ans4>', 'E': '</Ans5>'},\n",
    "    ice_token='</E>' \n",
    ")\n",
    "\n",
    "bb_template=PromptTemplate(\n",
    "    {\n",
    "        'A': \"</E>Answer the following question:\\n</Q>\\nAnswer: </Ans1>\",\n",
    "        'B': \"</E>Answer the following question:\\n</Q>\\nAnswer: </Ans2>\",\n",
    "        'C': \"</E>Answer the following question:\\n</Q>\\nAnswer: </Ans3>\"\n",
    "    },\n",
    "    {'question':'</Q>', 'A': '</Ans1>', 'B': '</Ans2>', 'C': '</Ans3>'},\n",
    "    ice_token='</E>' \n",
    ")\n",
    "sst2_template=PromptTemplate({\n",
    "            0: '</E>Positive Movie Review: \\\"<X>\\\"', \n",
    "            1: '</E>Negative Movie Review: \\\"<X>\\\"',\n",
    "        }, column_token_map={'text' : '<X>'}, \n",
    "        ice_token='</E>'\n",
    "    )\n",
    "\n"
   ]
  },
  {
   "cell_type": "code",
   "execution_count": 17,
   "metadata": {},
   "outputs": [],
   "source": [
    "# retriever = QPKTabuRetriever(data, model=model, task=task, ice_num=10, sentence_transformer='sentence-transformers/all-mpnet-base-v2')\n",
    "retriever = ZeroRetriever(data)\n",
    "# retriever = RandomRetriever(data)\n",
    "# retr_idxs = retriever.retrieve()\n",
    "\n",
    "# for idx in retr_idxs[0]:\n",
    "#     print(f\"{retriever.train_ds['question'][idx]} --- {retriever.train_ds['answers'][idx]['text']}\")\n"
   ]
  },
  {
   "cell_type": "code",
   "execution_count": 18,
   "metadata": {},
   "outputs": [
    {
     "name": "stderr",
     "output_type": "stream",
     "text": [
      "If you want to use `RobertaLMHeadModel` as a standalone, add `is_decoder=True.`\n"
     ]
    }
   ],
   "source": [
    "# Define a Inferencer\n",
    "inferencer = PPLInferencer(model_name=model, accelerator=accelerator)"
   ]
  },
  {
   "cell_type": "code",
   "execution_count": 19,
   "metadata": {},
   "outputs": [
    {
     "name": "stderr",
     "output_type": "stream",
     "text": [
      "[2023-06-14 07:39:39,884] [openicl.icl_inferencer.icl_ppl_inferencer] [INFO] Calculating PPL for prompts labeled '0'\n",
      "100%|██████████| 100/100 [00:21<00:00,  4.71it/s]\n",
      "[2023-06-14 07:40:01,115] [openicl.icl_inferencer.icl_ppl_inferencer] [INFO] Calculating PPL for prompts labeled '1'\n",
      " 41%|████      | 41/100 [00:08<00:14,  4.11it/s]"
     ]
    }
   ],
   "source": [
    "# Inference\n",
    "predictions = inferencer.inference(retriever, ice_template=sst2_template)\n",
    "print(predictions)"
   ]
  },
  {
   "cell_type": "code",
   "execution_count": 14,
   "metadata": {},
   "outputs": [
    {
     "name": "stdout",
     "output_type": "stream",
     "text": [
      "['A zombie movie in every sense of the word -- mindless , lifeless , meandering , loud , painful , obnoxious .', 'A solid , spooky entertainment worthy of the price of a ticket .', 'Great fun both for sports aficionados and for ordinary louts whose idea of exercise is climbing the steps of a stadium-seat megaplex .', 'Criminal conspiracies and true romances move so easily across racial and cultural lines in the film that it makes My Big Fat Greek Wedding look like an apartheid drama .', 'Goofy , nutty , consistently funny .', \"Frida is n't that much different from many a Hollywood romance .\", 'It is parochial , accessible to a chosen few , standoffish to everyone else , and smugly suggests a superior moral tone is more important than filmmaking skill', \"We hate -LRB- Madonna -RRB- within the film 's first five minutes , and she lacks the skill or presence to regain any ground .\", \"She 's all-powerful , a voice for a pop-cyber culture that feeds on her Bjorkness .\", \"-LRB- Moore 's -RRB- better at fingering problems than finding solutions .\", \"-LRB- A -RRB- stale retread of the '53 original .\", 'The cumulative effect of the movie is repulsive and depressing .', 'Rollerball IS as bad as you think , and worse than you can imagine .', \"The result is somewhat satisfying -- it still comes from Spielberg , who has never made anything that was n't at least watchable .\", \"Such a wildly uneven hit-and-miss enterprise , you ca n't help suspecting that it was improvised on a day-to-day basis during production .\", 'Visually captivating .', 'The picture emerges as a surprisingly anemic disappointment .', '-LRB- A -RRB- crushing disappointment .', 'The script is a dim-witted pairing of teen-speak and animal gibberish .', '... a bland murder-on-campus yawner .', \"Spielberg 's first real masterpiece , it deserved all the hearts it won -- and wins still , 20 years later .\", 'What one is left with , even after the most awful acts are committed , is an overwhelming sadness that feels as if it has made its way into your very bloodstream .', 'The movie slides downhill as soon as macho action conventions assert themselves .', 'The only question ... is to determine how well the schmaltz is manufactured -- to assess the quality of the manipulative engineering .', 'All comedy is subversive , but this unrelenting bleak insistence on opting out of any opportunity for finding meaning in relationships or work just becomes sad .', \"There 's a lot of tooth in Roger Dodger .\", \"All the small moments and flashbacks do n't add up to much more than trite observations on the human condition .\", \"Shanghai Ghetto may not be as dramatic as Roman Polanski 's The Pianist , but its compassionate spirit soars every bit as high .\", 'Amazing !', 'An odd , haphazard , and inconsequential romantic comedy .', 'A film of quiet power .', 'Shot in rich , shadowy black-and-white , Devils chronicles , with increasingly amused irony , the relationship between reluctant captors and befuddled captives .', 'Limps along on a squirm-inducing fish-out-of-water formula that goes nowhere and goes there very , very slowly .', 'Director Chris Wedge and screenwriters Michael Berg , Michael J. Wilson and Peter Ackerman create some episodes that rival vintage Looney Tunes for the most creative mayhem in a brief amount of time .', \"Be forewarned , if you 're depressed about anything before watching this film , you may just end up trying to drown yourself in a lake afterwards .\", \"It 's fitting that a movie as artificial and soulless as The Country Bears owes its genesis to an animatronic display at Disneyland .\", \"A few hours after you 've seen it , you forget you 've been to the movies .\", 'An overly familiar scenario is made fresh by an intelligent screenplay and gripping performances in this low-budget , video-shot , debut indie effort .', \"It 's so badly made on every level that I 'm actually having a hard time believing people were paid to make it .\", 'Ryan Gosling ... is at 22 a powerful young actor .', 'It hates its characters .', 'Crummy .', 'Both exuberantly romantic and serenely melancholy , What Time Is It There ?', 'Though this saga would be terrific to read about , it is dicey screen material that only a genius should touch .', 'A horror movie with seriously dumb characters , which somewhat dilutes the pleasure of watching them stalked by creepy-crawly bug things that live only in the darkness .', 'A fascinating documentary about the long and eventful spiritual journey of the guru who helped launch the New Age .', \"The tasteful little revision works wonders , enhancing the cultural and economic subtext , bringing richer meaning to the story 's morals .\", 'The direction occasionally rises to the level of marginal competence , but for most of the film it is hard to tell who is chasing who or why .', 'With nary a glimmer of self-knowledge , -LRB- Crane -RRB- becomes more specimen than character -- and Auto Focus remains a chilly , clinical lab report .', 'Feels more like a rejected X-Files episode than a credible account of a puzzling real-life happening .', \"Barry convinces us he 's a dangerous , secretly unhinged guy who could easily have killed a president because it made him feel powerful .\", 'Broomfield has a rather unique approach to documentary .', 'Nolan proves that he can cross swords with the best of them and helm a more traditionally plotted popcorn thriller while surrendering little of his intellectual rigor or creative composure .', 'For more than two decades Mr. Nachtwey has traveled to places in the world devastated by war , famine and poverty and documented the cruelty and suffering he has found with an devastating , eloquent clarity .', 'A moving picture that does not move .', 'Formulaic to the 51st power , more like .', \"Maybe it is formula filmmaking , but there 's nothing wrong with that if the film is well-crafted and this one is .\", \"What sets it apart is the vision that Taymor , the avant garde director of Broadway 's The Lion King and the film Titus , brings .\", 'Even with its $ 50-million US budget , Pinocchio never quite achieves the feel of a fanciful motion picture .', \"None of this is meaningful or memorable , but frosting is n't , either , and you would n't turn down a big bowl of that , would you ?\", 'Secretary manages a neat trick , bundling the flowers of perversity , comedy and romance into a strangely tempting bouquet of a movie .', 'Parents beware ; this is downright movie penance .', 'It is refreshingly undogmatic about its characters .', \"It 's that painful .\", \"A formula family tearjerker told with a heavy Irish brogue ... accentuating , rather than muting , the plot 's saccharine thrust .\", 'Though Jones and Snipes are enthralling , the movie bogs down in rhetoric and cliché .', 'The events of the film are just so WEIRD that I honestly never knew what the hell was coming next .', \"We just do n't really care too much about this love story .\", 'Quietly engaging .', \"The Importance of Being Earnest , so thick with wit it plays like a reading from Bartlett 's Familiar Quotations\", \"Lasker 's canny , meditative script distances sex and love , as Byron and Luther ... realize they ca n't get no satisfaction without the latter .\", \"There 's real visual charge to the filmmaking , and a strong erotic spark to the most crucial lip-reading sequence .\", 'A comedy that is warm , inviting , and surprising .', 'Unspeakable , of course , barely begins to describe the plot and its complications .', 'Grant carries the day with impeccable comic timing , raffish charm and piercing intellect .', \"Large budget notwithstanding , the movie is such a blip on the year 's radar screen that it 's tempting just to go with it for the ride .\", 'A lot more dimensional and complex than its sunny disposition would lead you to believe .', 'Delirious fun .', 'By halfway through this picture I was beginning to hate it , and , of course , feeling guilty for it ... Then , miracle of miracles , the movie does a flip-flop .', 'A sensitive , moving , brilliantly constructed work .', 'The Sum of All Fears is remarkably fuddled about motives and context , which drains it of the dramatic substance that would shake us in our boots -LRB- or cinema seats -RRB- .', \"Contradicts everything we 've come to expect from movies nowadays .\", \"Noyce 's greatest mistake is thinking that we needed sweeping , dramatic , Hollywood moments to keep us\", 'Then again , in a better movie , you might not have noticed .', 'As with so many merchandised-to-the-max movies of this type , more time appears to have gone into recruiting the right bands for the playlist and the costuming of the stars than into the script , which has a handful of smart jokes and not much else .', 'With few respites , Marshall keeps the energy humming , and his edits , unlike those in Moulin Rouge , are crisp and purposeful without overdoing it .', 'It has no affect on the Kurds , but it wore me down .', 'A well-executed spy-thriller .', 'A vibrant , colorful , semimusical rendition .', 'The film feels formulaic , its plot and pacing typical Hollywood war-movie stuff , while the performances elicit more of a sense of deja vu than awe .', 'An enjoyable feel-good family comedy regardless of race .', \"A dazzling thing to behold -- as long as you 're wearing the somewhat cumbersome 3D goggles the theater provides .\", 'There is greatness here .', 'At just over an hour , Home Movie will leave you wanting more , not to mention leaving you with some laughs and a smile on your face .', \"If you 've grown tired of going where no man has gone before , but several movies have - take heart .\", 'ZigZag might have been richer and more observant if it were less densely plotted .', 'Imagine Kevin Smith , the blasphemous bad boy of suburban Jersey , if he were stripped of most of his budget and all of his sense of humor .', '- greaseballs mob action-comedy .', \"All the Queen 's Men is a throwback war movie that fails on so many levels , it should pay reparations to viewers .\", 'Behind the glitz , Hollywood is sordid and disgusting .']\n",
      "[1, 0, 0, 0, 0, 1, 1, 1, 0, 1, 1, 1, 1, 0, 1, 0, 1, 1, 1, 1, 0, 0, 1, 1, 1, 0, 1, 0, 0, 1, 0, 0, 1, 0, 1, 1, 1, 0, 1, 0, 1, 1, 0, 0, 1, 0, 0, 1, 1, 1, 0, 0, 0, 0, 1, 1, 0, 0, 1, 0, 0, 1, 0, 1, 0, 1, 1, 1, 0, 0, 0, 0, 0, 1, 0, 0, 0, 0, 0, 0, 1, 0, 1, 1, 1, 0, 1, 0, 0, 1, 0, 0, 0, 0, 0, 1, 1, 1, 1, 1]\n"
     ]
    },
    {
     "data": {
      "text/plain": [
       "[0,\n",
       " 0,\n",
       " 0,\n",
       " 0,\n",
       " 1,\n",
       " 0,\n",
       " 0,\n",
       " 0,\n",
       " 0,\n",
       " 0,\n",
       " 0,\n",
       " 0,\n",
       " 0,\n",
       " 0,\n",
       " 0,\n",
       " 0,\n",
       " 0,\n",
       " 0,\n",
       " 1,\n",
       " 1,\n",
       " 1,\n",
       " 0,\n",
       " 0,\n",
       " 0,\n",
       " 0,\n",
       " 0,\n",
       " 0,\n",
       " 0,\n",
       " 0,\n",
       " 0,\n",
       " 1,\n",
       " 0,\n",
       " 0,\n",
       " 1,\n",
       " 0,\n",
       " 0,\n",
       " 0,\n",
       " 0,\n",
       " 1,\n",
       " 1,\n",
       " 0,\n",
       " 0,\n",
       " 0,\n",
       " 0,\n",
       " 0,\n",
       " 0,\n",
       " 0,\n",
       " 1,\n",
       " 0,\n",
       " 0,\n",
       " 0,\n",
       " 0,\n",
       " 1,\n",
       " 0,\n",
       " 0,\n",
       " 0,\n",
       " 0,\n",
       " 0,\n",
       " 0,\n",
       " 0,\n",
       " 0,\n",
       " 0,\n",
       " 1,\n",
       " 0,\n",
       " 1,\n",
       " 0,\n",
       " 0,\n",
       " 0,\n",
       " 1,\n",
       " 1,\n",
       " 0,\n",
       " 0,\n",
       " 0,\n",
       " 0,\n",
       " 1,\n",
       " 0,\n",
       " 0,\n",
       " 0,\n",
       " 1,\n",
       " 0,\n",
       " 0,\n",
       " 0,\n",
       " 0,\n",
       " 0,\n",
       " 1,\n",
       " 0,\n",
       " 0,\n",
       " 0,\n",
       " 0,\n",
       " 0,\n",
       " 1,\n",
       " 0,\n",
       " 0,\n",
       " 0,\n",
       " 0,\n",
       " 0,\n",
       " 0,\n",
       " 0,\n",
       " 0,\n",
       " 0]"
      ]
     },
     "execution_count": 14,
     "metadata": {},
     "output_type": "execute_result"
    }
   ],
   "source": [
    "print(retriever.test_ds['text'])\n",
    "    \n",
    "print(retriever.test_ds['label'])\n",
    "\n",
    "\n",
    "\n",
    "predictions\n"
   ]
  },
  {
   "cell_type": "code",
   "execution_count": 16,
   "metadata": {},
   "outputs": [
    {
     "data": {
      "text/plain": [
       "43"
      ]
     },
     "execution_count": 16,
     "metadata": {},
     "output_type": "execute_result"
    }
   ],
   "source": [
    "accuracy = np.sum(np.array(retriever.test_ds['label']) == np.array(predictions))\n",
    "accuracy"
   ]
  }
 ],
 "metadata": {
  "kernelspec": {
   "display_name": "Python 3",
   "language": "python",
   "name": "python3"
  },
  "language_info": {
   "codemirror_mode": {
    "name": "ipython",
    "version": 3
   },
   "file_extension": ".py",
   "mimetype": "text/x-python",
   "name": "python",
   "nbconvert_exporter": "python",
   "pygments_lexer": "ipython3",
   "version": "3.10.6"
  },
  "orig_nbformat": 4
 },
 "nbformat": 4,
 "nbformat_minor": 2
}
